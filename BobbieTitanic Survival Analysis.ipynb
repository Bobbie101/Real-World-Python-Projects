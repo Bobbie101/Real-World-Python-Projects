{
 "cells": [
  {
   "cell_type": "markdown",
   "metadata": {},
   "source": [
    "Before you turn this problem in, make sure everything runs as expected. First, **restart the kernel** (in the menu bar, select Kernel$\\rightarrow$Restart) and then **run all cells** (in the menu bar, select Cell$\\rightarrow$Run All).\n",
    "\n",
    "Make sure that in addition to the code, you provide written answers for all questions of the assignment. \n",
    "\n",
    "Below, please fill in your name and collaborators:"
   ]
  },
  {
   "cell_type": "code",
   "execution_count": 89,
   "metadata": {},
   "outputs": [],
   "source": [
    "NAME = \"Bobbie Williams\"\n"
   ]
  },
  {
   "cell_type": "markdown",
   "metadata": {},
   "source": [
    "## Assignment 2 - Data Analysis using Pandas\n",
    "**(15 points total)**"
   ]
  },
  {
   "attachments": {},
   "cell_type": "markdown",
   "metadata": {},
   "source": [
    "For this assignment, we will analyze the open dataset with data on the passengers aboard the Titanic.\n",
    "\n",
    "The data file for this assignment can be downloaded from Kaggle website: https://www.kaggle.com/c/titanic/data, file `train.csv`. The definition of all variables can be found on the same Kaggle page, in the Data Dictionary section.\n",
    "\n",
    "Read the data from the file into pandas DataFrame. Analyze, clean and transform the data to answer the following question: \n",
    "\n",
    "**What categories of passengers were most likely to survive the Titanic disaster?**"
   ]
  },
  {
   "attachments": {},
   "cell_type": "markdown",
   "metadata": {},
   "source": [
    "**Question 1.**  _(20 points)_\n",
    "* The answer to the main question - What categories of passengers were most likely to survive the Titanic disaster? Conduct a detailed analysis to identify which passengers were most likely to survive. _(15 points)_\n",
    "* The detailed explanation of the logic of the analysis _(5 points)_\n",
    "\n",
    "**Question 2.**  _(5 points)_\n",
    "* What attributes did you use for the analysis? Explain how you used them and why you decided to use them. \n",
    "* Provide a complete list of all attributes used.\n",
    "\n",
    "**Question 3.**  _(5 points)_\n",
    "* Were there any missing values? How did they impact your analysis? Consider dropping the rows with missing values using the drop() function. Did your findings change?\n"
   ]
  },
  {
   "cell_type": "code",
   "execution_count": 90,
   "metadata": {},
   "outputs": [
    {
     "name": "stdout",
     "output_type": "stream",
     "text": [
      "<class 'pandas.core.frame.DataFrame'>\n",
      "RangeIndex: 891 entries, 0 to 890\n",
      "Data columns (total 12 columns):\n",
      " #   Column       Non-Null Count  Dtype  \n",
      "---  ------       --------------  -----  \n",
      " 0   PassengerId  891 non-null    int64  \n",
      " 1   Survived     891 non-null    int64  \n",
      " 2   Pclass       891 non-null    int64  \n",
      " 3   Name         891 non-null    object \n",
      " 4   Sex          891 non-null    object \n",
      " 5   Age          714 non-null    float64\n",
      " 6   SibSp        891 non-null    int64  \n",
      " 7   Parch        891 non-null    int64  \n",
      " 8   Ticket       891 non-null    object \n",
      " 9   Fare         891 non-null    float64\n",
      " 10  Cabin        204 non-null    object \n",
      " 11  Embarked     889 non-null    object \n",
      "dtypes: float64(2), int64(5), object(5)\n",
      "memory usage: 83.7+ KB\n"
     ]
    }
   ],
   "source": [
    "import pandas as pd \n",
    "titanic_df = pd.read_csv('/Users/bobbiewilliams/Desktop/Uoft/Python 1/train.csv')\n",
    "titanic_df.head()\n",
    "titanic_df.info()"
   ]
  },
  {
   "cell_type": "code",
   "execution_count": 91,
   "metadata": {},
   "outputs": [
    {
     "data": {
      "text/plain": [
       "Sex\n",
       "female    233\n",
       "male      109\n",
       "Name: Survived, dtype: int64"
      ]
     },
     "execution_count": 91,
     "metadata": {},
     "output_type": "execute_result"
    }
   ],
   "source": [
    "# Step 1 - I'm going to figure out the survival \n",
    "titanic_df.groupby('Sex')['Survived'].sum()\n"
   ]
  },
  {
   "cell_type": "code",
   "execution_count": 92,
   "metadata": {},
   "outputs": [
    {
     "data": {
      "text/plain": [
       "Sex\n",
       "female    314\n",
       "male      577\n",
       "Name: PassengerId, dtype: int64"
      ]
     },
     "execution_count": 92,
     "metadata": {},
     "output_type": "execute_result"
    }
   ],
   "source": [
    "#Step 2 - What is my population\n",
    "titanic_df.groupby('Sex')['PassengerId'].count()"
   ]
  },
  {
   "cell_type": "code",
   "execution_count": 93,
   "metadata": {},
   "outputs": [
    {
     "data": {
      "text/plain": [
       "Sex\n",
       "female    74.203822\n",
       "male      18.890815\n",
       "dtype: float64"
      ]
     },
     "execution_count": 93,
     "metadata": {},
     "output_type": "execute_result"
    }
   ],
   "source": [
    "#Step 3 Calculate Survival Rate \n",
    "titanic_df.groupby('Sex')['Survived'].sum()/titanic_df.groupby('Sex')['PassengerId'].count()*100"
   ]
  },
  {
   "cell_type": "code",
   "execution_count": 94,
   "metadata": {},
   "outputs": [
    {
     "data": {
      "text/plain": [
       "Pclass\n",
       "1    136\n",
       "2     87\n",
       "3    119\n",
       "Name: Survived, dtype: int64"
      ]
     },
     "execution_count": 94,
     "metadata": {},
     "output_type": "execute_result"
    }
   ],
   "source": [
    "#Step 4 Calculate P Class \n",
    "titanic_df.groupby('Pclass')['Survived'].sum()"
   ]
  },
  {
   "cell_type": "code",
   "execution_count": 95,
   "metadata": {},
   "outputs": [
    {
     "data": {
      "text/plain": [
       "Pclass\n",
       "1    216\n",
       "2    184\n",
       "3    491\n",
       "Name: PassengerId, dtype: int64"
      ]
     },
     "execution_count": 95,
     "metadata": {},
     "output_type": "execute_result"
    }
   ],
   "source": [
    "#Step 5 Calculate P Class count \n",
    "titanic_df.groupby('Pclass')['PassengerId'].count()"
   ]
  },
  {
   "cell_type": "code",
   "execution_count": 96,
   "metadata": {},
   "outputs": [
    {
     "data": {
      "text/plain": [
       "Pclass\n",
       "1    62.962963\n",
       "2    47.282609\n",
       "3    24.236253\n",
       "dtype: float64"
      ]
     },
     "execution_count": 96,
     "metadata": {},
     "output_type": "execute_result"
    }
   ],
   "source": [
    "#Calculate the survival rate for Pclass \n",
    "titanic_df.groupby('Pclass')['Survived'].sum() / titanic_df.groupby('Pclass').size() * 100\n",
    "#The higher your ticket class the better chance of survival"
   ]
  },
  {
   "cell_type": "code",
   "execution_count": 97,
   "metadata": {},
   "outputs": [
    {
     "data": {
      "text/html": [
       "<div>\n",
       "<style scoped>\n",
       "    .dataframe tbody tr th:only-of-type {\n",
       "        vertical-align: middle;\n",
       "    }\n",
       "\n",
       "    .dataframe tbody tr th {\n",
       "        vertical-align: top;\n",
       "    }\n",
       "\n",
       "    .dataframe thead th {\n",
       "        text-align: right;\n",
       "    }\n",
       "</style>\n",
       "<table border=\"1\" class=\"dataframe\">\n",
       "  <thead>\n",
       "    <tr style=\"text-align: right;\">\n",
       "      <th></th>\n",
       "      <th>PassengerId</th>\n",
       "      <th>Survived</th>\n",
       "      <th>Pclass</th>\n",
       "      <th>Name</th>\n",
       "      <th>Sex</th>\n",
       "      <th>Age</th>\n",
       "      <th>SibSp</th>\n",
       "      <th>Parch</th>\n",
       "      <th>Ticket</th>\n",
       "      <th>Fare</th>\n",
       "      <th>Cabin</th>\n",
       "      <th>Embarked</th>\n",
       "      <th>AgeGroup</th>\n",
       "    </tr>\n",
       "  </thead>\n",
       "  <tbody>\n",
       "    <tr>\n",
       "      <th>0</th>\n",
       "      <td>1</td>\n",
       "      <td>0</td>\n",
       "      <td>3</td>\n",
       "      <td>Braund, Mr. Owen Harris</td>\n",
       "      <td>male</td>\n",
       "      <td>22.0</td>\n",
       "      <td>1</td>\n",
       "      <td>0</td>\n",
       "      <td>A/5 21171</td>\n",
       "      <td>7.2500</td>\n",
       "      <td>NaN</td>\n",
       "      <td>S</td>\n",
       "      <td>Adult (18+)</td>\n",
       "    </tr>\n",
       "    <tr>\n",
       "      <th>1</th>\n",
       "      <td>2</td>\n",
       "      <td>1</td>\n",
       "      <td>1</td>\n",
       "      <td>Cumings, Mrs. John Bradley (Florence Briggs Th...</td>\n",
       "      <td>female</td>\n",
       "      <td>38.0</td>\n",
       "      <td>1</td>\n",
       "      <td>0</td>\n",
       "      <td>PC 17599</td>\n",
       "      <td>71.2833</td>\n",
       "      <td>C85</td>\n",
       "      <td>C</td>\n",
       "      <td>Adult (18+)</td>\n",
       "    </tr>\n",
       "    <tr>\n",
       "      <th>2</th>\n",
       "      <td>3</td>\n",
       "      <td>1</td>\n",
       "      <td>3</td>\n",
       "      <td>Heikkinen, Miss. Laina</td>\n",
       "      <td>female</td>\n",
       "      <td>26.0</td>\n",
       "      <td>0</td>\n",
       "      <td>0</td>\n",
       "      <td>STON/O2. 3101282</td>\n",
       "      <td>7.9250</td>\n",
       "      <td>NaN</td>\n",
       "      <td>S</td>\n",
       "      <td>Adult (18+)</td>\n",
       "    </tr>\n",
       "    <tr>\n",
       "      <th>3</th>\n",
       "      <td>4</td>\n",
       "      <td>1</td>\n",
       "      <td>1</td>\n",
       "      <td>Futrelle, Mrs. Jacques Heath (Lily May Peel)</td>\n",
       "      <td>female</td>\n",
       "      <td>35.0</td>\n",
       "      <td>1</td>\n",
       "      <td>0</td>\n",
       "      <td>113803</td>\n",
       "      <td>53.1000</td>\n",
       "      <td>C123</td>\n",
       "      <td>S</td>\n",
       "      <td>Adult (18+)</td>\n",
       "    </tr>\n",
       "    <tr>\n",
       "      <th>4</th>\n",
       "      <td>5</td>\n",
       "      <td>0</td>\n",
       "      <td>3</td>\n",
       "      <td>Allen, Mr. William Henry</td>\n",
       "      <td>male</td>\n",
       "      <td>35.0</td>\n",
       "      <td>0</td>\n",
       "      <td>0</td>\n",
       "      <td>373450</td>\n",
       "      <td>8.0500</td>\n",
       "      <td>NaN</td>\n",
       "      <td>S</td>\n",
       "      <td>Adult (18+)</td>\n",
       "    </tr>\n",
       "  </tbody>\n",
       "</table>\n",
       "</div>"
      ],
      "text/plain": [
       "   PassengerId  Survived  Pclass  \\\n",
       "0            1         0       3   \n",
       "1            2         1       1   \n",
       "2            3         1       3   \n",
       "3            4         1       1   \n",
       "4            5         0       3   \n",
       "\n",
       "                                                Name     Sex   Age  SibSp  \\\n",
       "0                            Braund, Mr. Owen Harris    male  22.0      1   \n",
       "1  Cumings, Mrs. John Bradley (Florence Briggs Th...  female  38.0      1   \n",
       "2                             Heikkinen, Miss. Laina  female  26.0      0   \n",
       "3       Futrelle, Mrs. Jacques Heath (Lily May Peel)  female  35.0      1   \n",
       "4                           Allen, Mr. William Henry    male  35.0      0   \n",
       "\n",
       "   Parch            Ticket     Fare Cabin Embarked     AgeGroup  \n",
       "0      0         A/5 21171   7.2500   NaN        S  Adult (18+)  \n",
       "1      0          PC 17599  71.2833   C85        C  Adult (18+)  \n",
       "2      0  STON/O2. 3101282   7.9250   NaN        S  Adult (18+)  \n",
       "3      0            113803  53.1000  C123        S  Adult (18+)  \n",
       "4      0            373450   8.0500   NaN        S  Adult (18+)  "
      ]
     },
     "execution_count": 97,
     "metadata": {},
     "output_type": "execute_result"
    }
   ],
   "source": [
    "#Where going to look at age but I'm going to put into buckets \n",
    "titanic_df['AgeGroup'] = pd.cut(titanic_df['Age'],\n",
    "                       bins=[0, 12, 18, 100], \n",
    "                        labels=['Child (0-12)', 'Teen (13-18)', 'Adult (18+)'])\n",
    "titanic_df.head()   "
   ]
  },
  {
   "cell_type": "code",
   "execution_count": 98,
   "metadata": {},
   "outputs": [
    {
     "name": "stderr",
     "output_type": "stream",
     "text": [
      "/var/folders/5l/c5dpn99j1y52kz5k9knnbsdr0000gn/T/ipykernel_10829/3870274221.py:2: FutureWarning: The default of observed=False is deprecated and will be changed to True in a future version of pandas. Pass observed=False to retain current behavior or observed=True to adopt the future default and silence this warning.\n",
      "  titanic_df.groupby('AgeGroup')['Survived'].sum()\n"
     ]
    },
    {
     "data": {
      "text/plain": [
       "AgeGroup\n",
       "Child (0-12)     40\n",
       "Teen (13-18)     30\n",
       "Adult (18+)     220\n",
       "Name: Survived, dtype: int64"
      ]
     },
     "execution_count": 98,
     "metadata": {},
     "output_type": "execute_result"
    }
   ],
   "source": [
    "#AGE \n",
    "titanic_df.groupby('AgeGroup')['Survived'].sum()"
   ]
  },
  {
   "cell_type": "code",
   "execution_count": 99,
   "metadata": {},
   "outputs": [
    {
     "name": "stderr",
     "output_type": "stream",
     "text": [
      "/var/folders/5l/c5dpn99j1y52kz5k9knnbsdr0000gn/T/ipykernel_10829/1804811928.py:2: FutureWarning: The default of observed=False is deprecated and will be changed to True in a future version of pandas. Pass observed=False to retain current behavior or observed=True to adopt the future default and silence this warning.\n",
      "  titanic_df.groupby('AgeGroup').size()\n"
     ]
    },
    {
     "data": {
      "text/plain": [
       "AgeGroup\n",
       "Child (0-12)     69\n",
       "Teen (13-18)     70\n",
       "Adult (18+)     575\n",
       "dtype: int64"
      ]
     },
     "execution_count": 99,
     "metadata": {},
     "output_type": "execute_result"
    }
   ],
   "source": [
    "#Step 2 Count total passengers in each age group:\n",
    "titanic_df.groupby('AgeGroup').size()"
   ]
  },
  {
   "cell_type": "code",
   "execution_count": 100,
   "metadata": {},
   "outputs": [
    {
     "name": "stderr",
     "output_type": "stream",
     "text": [
      "/var/folders/5l/c5dpn99j1y52kz5k9knnbsdr0000gn/T/ipykernel_10829/1372081577.py:2: FutureWarning: The default of observed=False is deprecated and will be changed to True in a future version of pandas. Pass observed=False to retain current behavior or observed=True to adopt the future default and silence this warning.\n",
      "  titanic_df.groupby('AgeGroup')['Survived'].sum() / titanic_df.groupby('AgeGroup').size() * 100\n"
     ]
    },
    {
     "data": {
      "text/plain": [
       "AgeGroup\n",
       "Child (0-12)    57.971014\n",
       "Teen (13-18)    42.857143\n",
       "Adult (18+)     38.260870\n",
       "dtype: float64"
      ]
     },
     "execution_count": 100,
     "metadata": {},
     "output_type": "execute_result"
    }
   ],
   "source": [
    "# Calculate the survival rate percentage:\n",
    "titanic_df.groupby('AgeGroup')['Survived'].sum() / titanic_df.groupby('AgeGroup').size() * 100"
   ]
  },
  {
   "cell_type": "code",
   "execution_count": 101,
   "metadata": {},
   "outputs": [
    {
     "data": {
      "text/html": [
       "<div>\n",
       "<style scoped>\n",
       "    .dataframe tbody tr th:only-of-type {\n",
       "        vertical-align: middle;\n",
       "    }\n",
       "\n",
       "    .dataframe tbody tr th {\n",
       "        vertical-align: top;\n",
       "    }\n",
       "\n",
       "    .dataframe thead th {\n",
       "        text-align: right;\n",
       "    }\n",
       "</style>\n",
       "<table border=\"1\" class=\"dataframe\">\n",
       "  <thead>\n",
       "    <tr style=\"text-align: right;\">\n",
       "      <th></th>\n",
       "      <th>SibSp</th>\n",
       "      <th>Parch</th>\n",
       "      <th>FamilySize</th>\n",
       "    </tr>\n",
       "  </thead>\n",
       "  <tbody>\n",
       "    <tr>\n",
       "      <th>0</th>\n",
       "      <td>1</td>\n",
       "      <td>0</td>\n",
       "      <td>1</td>\n",
       "    </tr>\n",
       "    <tr>\n",
       "      <th>1</th>\n",
       "      <td>1</td>\n",
       "      <td>0</td>\n",
       "      <td>1</td>\n",
       "    </tr>\n",
       "    <tr>\n",
       "      <th>2</th>\n",
       "      <td>0</td>\n",
       "      <td>0</td>\n",
       "      <td>0</td>\n",
       "    </tr>\n",
       "    <tr>\n",
       "      <th>3</th>\n",
       "      <td>1</td>\n",
       "      <td>0</td>\n",
       "      <td>1</td>\n",
       "    </tr>\n",
       "    <tr>\n",
       "      <th>4</th>\n",
       "      <td>0</td>\n",
       "      <td>0</td>\n",
       "      <td>0</td>\n",
       "    </tr>\n",
       "    <tr>\n",
       "      <th>5</th>\n",
       "      <td>0</td>\n",
       "      <td>0</td>\n",
       "      <td>0</td>\n",
       "    </tr>\n",
       "    <tr>\n",
       "      <th>6</th>\n",
       "      <td>0</td>\n",
       "      <td>0</td>\n",
       "      <td>0</td>\n",
       "    </tr>\n",
       "    <tr>\n",
       "      <th>7</th>\n",
       "      <td>3</td>\n",
       "      <td>1</td>\n",
       "      <td>4</td>\n",
       "    </tr>\n",
       "    <tr>\n",
       "      <th>8</th>\n",
       "      <td>0</td>\n",
       "      <td>2</td>\n",
       "      <td>2</td>\n",
       "    </tr>\n",
       "    <tr>\n",
       "      <th>9</th>\n",
       "      <td>1</td>\n",
       "      <td>0</td>\n",
       "      <td>1</td>\n",
       "    </tr>\n",
       "  </tbody>\n",
       "</table>\n",
       "</div>"
      ],
      "text/plain": [
       "   SibSp  Parch  FamilySize\n",
       "0      1      0           1\n",
       "1      1      0           1\n",
       "2      0      0           0\n",
       "3      1      0           1\n",
       "4      0      0           0\n",
       "5      0      0           0\n",
       "6      0      0           0\n",
       "7      3      1           4\n",
       "8      0      2           2\n",
       "9      1      0           1"
      ]
     },
     "execution_count": 101,
     "metadata": {},
     "output_type": "execute_result"
    }
   ],
   "source": [
    "#Family - Creating a column ombining sibling, family size and number of parents \n",
    "titanic_df['FamilySize'] = titanic_df['SibSp'] + titanic_df['Parch']\n",
    "titanic_df[['SibSp', 'Parch', 'FamilySize']].head(10)"
   ]
  },
  {
   "cell_type": "code",
   "execution_count": 102,
   "metadata": {},
   "outputs": [
    {
     "data": {
      "text/plain": [
       "FamilySize\n",
       "0     30.353818\n",
       "1     55.279503\n",
       "2     57.843137\n",
       "3     72.413793\n",
       "4     20.000000\n",
       "5     13.636364\n",
       "6     33.333333\n",
       "7      0.000000\n",
       "10     0.000000\n",
       "Name: Survived, dtype: float64"
      ]
     },
     "execution_count": 102,
     "metadata": {},
     "output_type": "execute_result"
    }
   ],
   "source": [
    "#Now were going to get the sum of the family that survived and survival rate \n",
    "titanic_df.groupby('FamilySize')['Survived'].sum()\n",
    "#Counting total number of passengers in each family \n",
    "titanic_df.groupby('FamilySize').size()\n",
    "#survival rate\n",
    "titanic_df.groupby('FamilySize', observed=True)['Survived'].mean() * 100\n",
    "\n",
    "#Finding -families of 2-3 people had the BEST survival rate (72%!). But larger families (4+) had much lower rates.\n",
    "#And people traveling alone (0) had low rates too of 30.35%."
   ]
  },
  {
   "cell_type": "code",
   "execution_count": 103,
   "metadata": {},
   "outputs": [
    {
     "data": {
      "text/html": [
       "<div>\n",
       "<style scoped>\n",
       "    .dataframe tbody tr th:only-of-type {\n",
       "        vertical-align: middle;\n",
       "    }\n",
       "\n",
       "    .dataframe tbody tr th {\n",
       "        vertical-align: top;\n",
       "    }\n",
       "\n",
       "    .dataframe thead th {\n",
       "        text-align: right;\n",
       "    }\n",
       "</style>\n",
       "<table border=\"1\" class=\"dataframe\">\n",
       "  <thead>\n",
       "    <tr style=\"text-align: right;\">\n",
       "      <th></th>\n",
       "      <th>FamilySize</th>\n",
       "      <th>TravelingAlone</th>\n",
       "    </tr>\n",
       "  </thead>\n",
       "  <tbody>\n",
       "    <tr>\n",
       "      <th>0</th>\n",
       "      <td>1</td>\n",
       "      <td>False</td>\n",
       "    </tr>\n",
       "    <tr>\n",
       "      <th>1</th>\n",
       "      <td>1</td>\n",
       "      <td>False</td>\n",
       "    </tr>\n",
       "    <tr>\n",
       "      <th>2</th>\n",
       "      <td>0</td>\n",
       "      <td>True</td>\n",
       "    </tr>\n",
       "    <tr>\n",
       "      <th>3</th>\n",
       "      <td>1</td>\n",
       "      <td>False</td>\n",
       "    </tr>\n",
       "    <tr>\n",
       "      <th>4</th>\n",
       "      <td>0</td>\n",
       "      <td>True</td>\n",
       "    </tr>\n",
       "    <tr>\n",
       "      <th>5</th>\n",
       "      <td>0</td>\n",
       "      <td>True</td>\n",
       "    </tr>\n",
       "    <tr>\n",
       "      <th>6</th>\n",
       "      <td>0</td>\n",
       "      <td>True</td>\n",
       "    </tr>\n",
       "    <tr>\n",
       "      <th>7</th>\n",
       "      <td>4</td>\n",
       "      <td>False</td>\n",
       "    </tr>\n",
       "    <tr>\n",
       "      <th>8</th>\n",
       "      <td>2</td>\n",
       "      <td>False</td>\n",
       "    </tr>\n",
       "    <tr>\n",
       "      <th>9</th>\n",
       "      <td>1</td>\n",
       "      <td>False</td>\n",
       "    </tr>\n",
       "  </tbody>\n",
       "</table>\n",
       "</div>"
      ],
      "text/plain": [
       "   FamilySize  TravelingAlone\n",
       "0           1           False\n",
       "1           1           False\n",
       "2           0            True\n",
       "3           1           False\n",
       "4           0            True\n",
       "5           0            True\n",
       "6           0            True\n",
       "7           4           False\n",
       "8           2           False\n",
       "9           1           False"
      ]
     },
     "execution_count": 103,
     "metadata": {},
     "output_type": "execute_result"
    }
   ],
   "source": [
    "#I'm going to check the survival rate for people travelling with zero family to compare \n",
    "titanic_df['TravelingAlone'] = titanic_df['FamilySize'] == 0\n",
    "titanic_df[['FamilySize', 'TravelingAlone']].head(10)"
   ]
  },
  {
   "cell_type": "code",
   "execution_count": 104,
   "metadata": {},
   "outputs": [
    {
     "data": {
      "text/plain": [
       "TravelingAlone\n",
       "True     537\n",
       "False    354\n",
       "Name: count, dtype: int64"
      ]
     },
     "execution_count": 104,
     "metadata": {},
     "output_type": "execute_result"
    }
   ],
   "source": [
    "titanic_df['TravelingAlone'].value_counts()"
   ]
  },
  {
   "cell_type": "code",
   "execution_count": 105,
   "metadata": {},
   "outputs": [
    {
     "data": {
      "text/plain": [
       "TravelingAlone\n",
       "False    50.564972\n",
       "True     30.353818\n",
       "Name: Survived, dtype: float64"
      ]
     },
     "execution_count": 105,
     "metadata": {},
     "output_type": "execute_result"
    }
   ],
   "source": [
    "titanic_df.groupby('TravelingAlone', observed=True)['Survived'].mean() * 100"
   ]
  },
  {
   "cell_type": "code",
   "execution_count": 106,
   "metadata": {},
   "outputs": [
    {
     "data": {
      "text/plain": [
       "Sex     Pclass\n",
       "female  1         96.808511\n",
       "        2         92.105263\n",
       "        3         50.000000\n",
       "male    1         36.885246\n",
       "        2         15.740741\n",
       "        3         13.544669\n",
       "Name: Survived, dtype: float64"
      ]
     },
     "execution_count": 106,
     "metadata": {},
     "output_type": "execute_result"
    }
   ],
   "source": [
    "#I noticed a pattern so we're going to analyze female and class together and see the survival rate\n",
    "titanic_df.groupby(['Sex', 'Pclass'])['Survived'].mean() * 100\n"
   ]
  },
  {
   "cell_type": "code",
   "execution_count": 107,
   "metadata": {},
   "outputs": [
    {
     "data": {
      "text/plain": [
       "PassengerId         0\n",
       "Survived            0\n",
       "Pclass              0\n",
       "Name                0\n",
       "Sex                 0\n",
       "Age               177\n",
       "SibSp               0\n",
       "Parch               0\n",
       "Ticket              0\n",
       "Fare                0\n",
       "Cabin             687\n",
       "Embarked            2\n",
       "AgeGroup          177\n",
       "FamilySize          0\n",
       "TravelingAlone      0\n",
       "dtype: int64"
      ]
     },
     "execution_count": 107,
     "metadata": {},
     "output_type": "execute_result"
    }
   ],
   "source": [
    "#Before finishing Q1 we're going to find the null values. We're going to clean and remove rows with missing values \n",
    "titanic_df.isnull().sum()"
   ]
  },
  {
   "cell_type": "code",
   "execution_count": 108,
   "metadata": {},
   "outputs": [
    {
     "name": "stdout",
     "output_type": "stream",
     "text": [
      "Before cleaning: 891\n",
      "After cleaning: 183\n"
     ]
    }
   ],
   "source": [
    "#We're going to clean and remove rows with missing values \n",
    "titanic_df_clean = titanic_df.dropna()\n",
    "print(\"Before cleaning:\", len(titanic_df))\n",
    "print(\"After cleaning:\", len(titanic_df_clean))"
   ]
  },
  {
   "cell_type": "code",
   "execution_count": 109,
   "metadata": {},
   "outputs": [
    {
     "data": {
      "text/plain": [
       "Sex     Pclass\n",
       "female  1         95.945946\n",
       "        2         88.888889\n",
       "        3         60.000000\n",
       "male    1         41.666667\n",
       "        2         66.666667\n",
       "        3         40.000000\n",
       "Name: Survived, dtype: float64"
      ]
     },
     "execution_count": 109,
     "metadata": {},
     "output_type": "execute_result"
    }
   ],
   "source": [
    "#See what the survival rate is after cleaning \n",
    "titanic_df_clean.groupby(['Sex', 'Pclass'])['Survived'].mean() * 100"
   ]
  },
  {
   "cell_type": "code",
   "execution_count": 110,
   "metadata": {},
   "outputs": [],
   "source": [
    "#Question 1 Findings\n",
    "#The passengers most likely to survive were: females, especially those in 1st and 2nd class 96.8% and 92.1% survival rates respectively; children aged 0-12 57.97% survival rate; and passengers traveling with family members 50.6% survival rate.More specifically and passengers traveling with small family groups (2-3 people). \n",
    "#In contrast,passengers who were male, in 3rd class 13.5% survival rate for males, adults 38.3% survival rate, or traveling alone 30.4% survival rate had much lower survival rates.)\n",
    "\n",
    "#There are 891 titanic passengers and the categories that influenced the survival rate as follows: \n",
    "# Gender \n",
    "#Female 1st Class: 96.8% survival rate\n",
    "#Female 2nd Class: 92.1% survival rate\n",
    "#Female 3rd Class: 50.0% survival rate\n",
    "#Male 1st Class: 36.9% survival rate\n",
    "#Male 2nd Class: 15.7% survival rate\n",
    "#Male 3rd Class: 13.5% survival rate\n",
    "\n",
    "#Age \n",
    "#Children (0-12 years): 57.97% survival rate\n",
    "#Teenagers (13-18 years): 42.86% survival rate\n",
    "#Adults (18+ years): 38.26% survival rate\n",
    "\n",
    "#Family Dynamics\n",
    "#Traveling with Family: 50.6% survival rate\n",
    "#Traveling Alone: 30.4% survival rate\n",
    "\n",
    "#Families VS Solo Travellers \n",
    "#Families of 2-3 people: 57-72% survival rate (best)\n",
    "#Families of 4+ people: 0-20% survival rate (worst)\n",
    "#Solo travelers: 30% survival rate"
   ]
  },
  {
   "cell_type": "code",
   "execution_count": 111,
   "metadata": {},
   "outputs": [],
   "source": [
    "#Question 2 \n",
    "# Why : I chose the following attributes below they demonstrated demographics and social status and you can tell from the data how that impacts the survival rate. \n",
    "# This data can also give a understanding of what passengers were priortized when evacuation.\n",
    "\n",
    "# Following Demographics/Attributes\n",
    "# Survived - Showing the rate whether if each passenger survived \n",
    "# Sex - Compared the survival rates between genders and discovered that females has 3.5x higher survival rate \n",
    "# Pclass - I used this to analyzed how passenger class affected the survival rate and 62% had a higher survival rate compared to the other classes \n",
    "# AgeGroup - I created this by grouping ages into three categories: Child (0-12), Teen (13-18), and Adult (18+). This helped identify clear survival patterns by age.\n",
    "# FamilySize - I created this by adding SibSp + Parch to get total family members traveling together. This revealed that small family groups (2-3 people) had better survival chances.\n",
    "# Traveling Alone - I created this as a True/False indicator based on FamilySize (True if alone, False if with family). This showed that traveling with family increased survival chances by 20 percentage points.\n",
    "# SibSp - Number of siblings/spouses aboard. I combined this with Parch to create FamilySize.\n",
    "# Parch - Number of parents/children aboard. I combined this with SibSp to create FamilySize."
   ]
  },
  {
   "cell_type": "code",
   "execution_count": 112,
   "metadata": {},
   "outputs": [],
   "source": [
    "#Question 3 - Missing values and how it impacted my analysis \n",
    "#Summary here was my findings of missing values in data set\n",
    "#Age:       177 missing /891 passengers)\n",
    "#Cabin:     687 missing / 891 passengers)\n",
    "#Embarked:  2 missing / 891 passengers)\n",
    "#AgeGroup:  177 missing - inherited from Age\n",
    "\n",
    "#Impact on Analysis - I used dropna()- to drop all the missing rows \n",
    "#Passengers the before and after cleaning \n",
    "\n",
    "#Before cleaning: 891 passengers.After cleaning: 183 passengers. \n",
    "#Rows removed: 708 passengers (79% of data)\n",
    "\n",
    "#Genders by Pclasses Before and after cleaning \n",
    "#Female 1st Class: 96.8% -> 95.9% (minimal change)\n",
    "#Female 2nd Class: 92.1% -> 88.9% (minimal change)\n",
    "#Female 3rd Class: 50.0% -> 60.0% (slight increase)\n",
    "\n",
    "\n",
    "#Male 1st Class: 36.9% -> 41.7% (slight increase)\n",
    "#Male 2nd Class: 15.7% -> 66.7% (major change)\n",
    "#Male 3rd Class: 13.5% -> 40.0% (significant increase)\n",
    "\n",
    "#Conclusion\n",
    "#The missing values did impact the analysis, particularly for male passengers in 2nd and 3rd class change seen above. \n",
    "#The changes suggest that passengers with missing Cabin data had different survival patterns than those with complete data.\n",
    "# The analysis using all 891 passengers is more reliable because it includes a larger sample size and represents all passengers, in comparison to those with complete cabin information.\n",
    "#However, both findings showes that female passengers in higher classes had a higher survival rate. \n"
   ]
  },
  {
   "cell_type": "code",
   "execution_count": null,
   "metadata": {},
   "outputs": [],
   "source": []
  }
 ],
 "metadata": {
  "kernelspec": {
   "display_name": "Python [conda env:base] *",
   "language": "python",
   "name": "conda-base-py"
  },
  "language_info": {
   "codemirror_mode": {
    "name": "ipython",
    "version": 3
   },
   "file_extension": ".py",
   "mimetype": "text/x-python",
   "name": "python",
   "nbconvert_exporter": "python",
   "pygments_lexer": "ipython3",
   "version": "3.13.5"
  },
  "toc": {
   "base_numbering": 1,
   "nav_menu": {},
   "number_sections": false,
   "sideBar": true,
   "skip_h1_title": false,
   "title_cell": "Table of Contents",
   "title_sidebar": "Contents",
   "toc_cell": false,
   "toc_position": {},
   "toc_section_display": true,
   "toc_window_display": false
  },
  "vscode": {
   "interpreter": {
    "hash": "b0fa6594d8f4cbf19f97940f81e996739fb7646882a419484c72d19e05852a7e"
   }
  }
 },
 "nbformat": 4,
 "nbformat_minor": 4
}
