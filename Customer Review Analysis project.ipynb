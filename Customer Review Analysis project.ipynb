{
 "cells": [
  {
   "cell_type": "code",
   "execution_count": 1,
   "metadata": {},
   "outputs": [],
   "source": [
    "NAME = 'Bobbie Williams'"
   ]
  },
  {
   "cell_type": "markdown",
   "metadata": {},
   "source": [
    "# Assignment 2 - Intro to Python\n",
    "\n",
    "(30 points)"
   ]
  },
  {
   "attachments": {},
   "cell_type": "markdown",
   "metadata": {},
   "source": [
    "## Learning Outcomes\n",
    "\n",
    "In this assignment you will practice:\n",
    "\n",
    "- Basic Python syntax\n",
    "- Working with sequence and mapping data types\n",
    "- Working with comparison operators\n",
    "- Conditional statements\n",
    "- Loops\n",
    "- Writing custom functions\n",
    "\n",
    "### You should only use native Python functions for this assignment, without needing any libraries."
   ]
  },
  {
   "attachments": {},
   "cell_type": "markdown",
   "metadata": {},
   "source": [
    "## Question 1: Working with Strings (8 points)\n",
    "\n",
    "You've been given the following 10 customer reviews about a TV product. You've been asked to conduct an analysis and identify the most common words that came up in the reviews. Using the techniques you have learned so far, create an output which orders words by frequency. Draw a conclusion about the analysis - what are the common benefits or concerns that customers highlight about the product? \n",
    "\n",
    "Hint: consider removing stop words like \"the\", \"and\", \"is\", \"i\", \"it\", \"but\", \"too\", \"a\", \"are\", \"at\", \"be\", \"can\", \"for\", \"to\" and any other you find irrelevant."
   ]
  },
  {
   "cell_type": "code",
   "execution_count": 15,
   "metadata": {},
   "outputs": [],
   "source": [
    "# customer reviews - be sure to execute this cell\n",
    "review_1 = 'The picture quality is good but the sound is a bit low '\n",
    "review_2 = 'The picture is good '\n",
    "review_3 = 'There are not enough picture settings '\n",
    "review_4 = 'The sound is too low '\n",
    "review_5 = 'The picture is perfect and movie nights are always a hit at our house '\n",
    "review_6 = 'I like that I can connect to streaming services '\n",
    "review_7 = 'The sound could be better but overall it is a good product '\n",
    "review_8 = 'The picture is vibrant especially for nature documentaries '\n",
    "review_9 = 'Great quality TV much better than my last Sony '\n",
    "review_10 = 'Overall it is a good product but I would like better app options '"
   ]
  },
  {
   "cell_type": "code",
   "execution_count": 59,
   "metadata": {},
   "outputs": [
    {
     "name": "stdout",
     "output_type": "stream",
     "text": [
      "['the picture quality is good but the sound is a bit low', 'the picture is good', 'there are not enough picture settings', 'the sound is too low', 'the picture is perfect and movie nights are always a hit at our house', 'i like that i can connect to streaming services', 'the sound could be better but overall it is a good product', 'the picture is vibrant especially for nature documentaries', 'great quality tv much better than my last sony', 'overall it is a good product but i would like better app options']\n",
      "['the picture quality is good but the sound is a bit low', 'the picture is good', 'there are not enough picture settings', 'the sound is too low', 'the picture is perfect and movie nights are always a hit at our house', 'i like that i can connect to streaming services', 'the sound could be better but overall it is a good product', 'the picture is vibrant especially for nature documentaries', 'great quality tv much better than my last sony', 'overall it is a good product but i would like better app options']\n",
      "[['the', 'picture', 'quality', 'is', 'good', 'but', 'the', 'sound', 'is', 'a', 'bit', 'low'], ['the', 'picture', 'is', 'good'], ['there', 'are', 'not', 'enough', 'picture', 'settings'], ['the', 'sound', 'is', 'too', 'low'], ['the', 'picture', 'is', 'perfect', 'and', 'movie', 'nights', 'are', 'always', 'a', 'hit', 'at', 'our', 'house'], ['i', 'like', 'that', 'i', 'can', 'connect', 'to', 'streaming', 'services'], ['the', 'sound', 'could', 'be', 'better', 'but', 'overall', 'it', 'is', 'a', 'good', 'product'], ['the', 'picture', 'is', 'vibrant', 'especially', 'for', 'nature', 'documentaries'], ['great', 'quality', 'tv', 'much', 'better', 'than', 'my', 'last', 'sony'], ['overall', 'it', 'is', 'a', 'good', 'product', 'but', 'i', 'would', 'like', 'better', 'app', 'options']]\n",
      "All Words: ['the', 'picture', 'quality', 'is', 'good', 'but', 'the', 'sound', 'is', 'a', 'bit', 'low', 'the', 'picture', 'is', 'good', 'there', 'are', 'not', 'enough', 'picture', 'settings', 'the', 'sound', 'is', 'too', 'low', 'the', 'picture', 'is', 'perfect', 'and', 'movie', 'nights', 'are', 'always', 'a', 'hit', 'at', 'our', 'house', 'i', 'like', 'that', 'i', 'can', 'connect', 'to', 'streaming', 'services', 'the', 'sound', 'could', 'be', 'better', 'but', 'overall', 'it', 'is', 'a', 'good', 'product', 'the', 'picture', 'is', 'vibrant', 'especially', 'for', 'nature', 'documentaries', 'great', 'quality', 'tv', 'much', 'better', 'than', 'my', 'last', 'sony', 'overall', 'it', 'is', 'a', 'good', 'product', 'but', 'i', 'would', 'like', 'better', 'app', 'options']\n",
      "Cleaned_Words: ['picture', 'quality', 'good', 'sound', 'low', 'picture', 'good', 'there', 'not', 'enough', 'picture', 'settings', 'sound', 'low', 'picture', 'perfect', 'movie', 'nights', 'always', 'hit', 'house', 'that', 'connect', 'streaming', 'services', 'sound', 'could', 'good', 'product', 'picture', 'vibrant', 'especially', 'nature', 'documentaries', 'great', 'quality', 'tv', 'sony', 'good', 'product', 'would', 'app', 'options']\n",
      "Word_count: {'picture': 5, 'quality': 2, 'good': 4, 'sound': 3, 'low': 2, 'there': 1, 'not': 1, 'enough': 1, 'settings': 1, 'perfect': 1, 'movie': 1, 'nights': 1, 'always': 1, 'hit': 1, 'house': 1, 'that': 1, 'connect': 1, 'streaming': 1, 'services': 1, 'could': 1, 'product': 2, 'vibrant': 1, 'especially': 1, 'nature': 1, 'documentaries': 1, 'great': 1, 'tv': 1, 'sony': 1, 'would': 1, 'app': 1, 'options': 1}\n",
      "Sorted_word frequencies: [('picture', 5), ('good', 4), ('sound', 3), ('quality', 2), ('low', 2), ('product', 2), ('there', 1), ('not', 1), ('enough', 1), ('settings', 1), ('perfect', 1), ('movie', 1), ('nights', 1), ('always', 1), ('hit', 1), ('house', 1), ('that', 1), ('connect', 1), ('streaming', 1), ('services', 1), ('could', 1), ('vibrant', 1), ('especially', 1), ('nature', 1), ('documentaries', 1), ('great', 1), ('tv', 1), ('sony', 1), ('would', 1), ('app', 1), ('options', 1)]\n"
     ]
    }
   ],
   "source": [
    "# Type your code here\n",
    "#step 1 - I'm going to paste all the reviews \n",
    "\n",
    "reviews = [\n",
    "    'The picture quality is good but the sound is a bit low',\n",
    "    'The picture is good',\n",
    "    \"There are not enough picture settings\",\n",
    "    'The sound is too low',\n",
    "    'The picture is perfect and movie nights are always a hit at our house',\n",
    "    'I like that I can connect to streaming services',\n",
    "    'The sound could be better but overall it is a good product',\n",
    "    'The picture is vibrant especially for nature documentaries',\n",
    "    'Great quality TV much better than my last Sony',\n",
    "    'Overall it is a good product but I would like better app options'\n",
    "]\n",
    "\n",
    "#Step 1 b -  the stop words  \n",
    "stop_words = { \"the\", \"and\", \"is\", \"i\", \"it\", \"but\", \"too\", \"a\", \"are\", \"at\", \"be\", \"can\", \"for\", \n",
    "              \"to\", \"my\", \"our\", \"than\", \"much\", \"better\", \"bit\",\"overall\", \"like\", \"last\"}\n",
    "\n",
    "# Step 2, I'm going to make the list lowercase and remove and punctuations \n",
    "lowercase_reviews = [review.lower() for review in reviews]\n",
    "print(lowercase_reviews)\n",
    "\n",
    "replace_reviews = [review.replace (\",\",\"\").replace(\".\",\"\") for review in lowercase_reviews]\n",
    "print(replace_reviews)\n",
    "\n",
    "# Step 3 I'm splitting the words in a list \n",
    "words_review = [review.split() for review in replace_reviews]\n",
    "print(words_review)\n",
    "\n",
    "#Step 4 I'm going to flatten my list\n",
    "all_words = []\n",
    "for review in words_review:\n",
    "    for word in review:\n",
    "        all_words.append(word)\n",
    "\n",
    "print(\"All Words:\",all_words)\n",
    "\n",
    "#Step 5 I'm going to remove the stop words \n",
    "cleaned_words = []\n",
    "for word in all_words:\n",
    "    if word not in stop_words:   \n",
    "        cleaned_words.append(word)\n",
    "print(\"Cleaned_Words:\",cleaned_words)\n",
    "\n",
    "#Step 6 I'm going to do a word count and use dictionary and .get()\n",
    "word_count = {}\n",
    "for word in cleaned_words:\n",
    "    word_count[word] = word_count.get(word, 0) + 1\n",
    "\n",
    "print(\"Word_count:\",word_count)\n",
    "\n",
    "#Step 7 - I'm going to sort my word count \n",
    "sorted_word_count = sorted(word_count.items(), key=lambda item: item[1], reverse=True)\n",
    "print(\"Sorted_word frequencies:\",sorted_word_count)\n",
    "## In conclusion the  most frequently mentioned aspect was 'picture'  which appeared 5 times. In relations to the good picture quality. The word 'sound' showed up 3 times in relations to a low sound quality."
   ]
  },
  {
   "cell_type": "code",
   "execution_count": null,
   "metadata": {},
   "outputs": [],
   "source": []
  },
  {
   "cell_type": "code",
   "execution_count": null,
   "metadata": {},
   "outputs": [],
   "source": []
  },
  {
   "cell_type": "code",
   "execution_count": null,
   "metadata": {},
   "outputs": [],
   "source": []
  },
  {
   "cell_type": "code",
   "execution_count": null,
   "metadata": {},
   "outputs": [],
   "source": []
  },
  {
   "cell_type": "code",
   "execution_count": null,
   "metadata": {},
   "outputs": [],
   "source": []
  },
  {
   "cell_type": "code",
   "execution_count": null,
   "metadata": {},
   "outputs": [],
   "source": []
  },
  {
   "attachments": {},
   "cell_type": "markdown",
   "metadata": {},
   "source": [
    "## Question 2: Working with Loops (8 points)\n",
    "\n",
    "A grocery store has recently introduced a loyalty program which allows customers to earn points for each grocery purchase, and then redeem the points for partner gift cards (e.g., Target, Amazon, Google Play Store). A customer can redeem gift cards in the amounts of $10 or $20. 100 points is worth $10. \n",
    "\n",
    "You've been given the following data of customers and their point balances, and your task is to figure out how many gift cards each person can get, assuming they will get the maximum number of $20 gift cards before getting $10 gift cards. For example, a customer with 350 points should be able to get one $20 gift card (200 points), and 1 $10 gift card (100 points), with 50 points left over.\n",
    "\n",
    "Your final output should include each customer's name and the count of $20 and $10 gift cards they can get, as well as any outstanding point balances."
   ]
  },
  {
   "cell_type": "code",
   "execution_count": 64,
   "metadata": {},
   "outputs": [
    {
     "name": "stdout",
     "output_type": "stream",
     "text": [
      "{'Patrik Kolton': 1254, 'Sita Sedna': 250, 'Tajeddigt Valdimárr': 346, 'Dídac Stelios': 6754, 'Berenice Ragnheiðr': 875, 'Masako Prossy': 466, 'Ronen Achaicus': 742, 'Anette Walenty': 1298, 'Miski Diwata': 1348, 'Ayyub Neil': 1764, 'Loan Eunice': 983, 'Helene Eufrozina': 2362}\n"
     ]
    }
   ],
   "source": [
    "# Execute this cell to create a dictionary of customers and their point balances\n",
    "customers={\n",
    "    'Patrik Kolton': 1254,\n",
    "    'Sita Sedna': 250,\n",
    "    'Tajeddigt Valdimárr':346,\n",
    "    'Dídac Stelios':6754,\n",
    "    'Berenice Ragnheiðr': 875,\n",
    "    'Masako Prossy':466,\n",
    "    'Ronen Achaicus':742,\n",
    "    'Anette Walenty':1298,\n",
    "    'Miski Diwata': 1348,\n",
    "    'Ayyub Neil': 1764,\n",
    "    'Loan Eunice': 983,\n",
    "    'Helene Eufrozina': 2362 \n",
    "}\n",
    "\n",
    "## Lets calculate  for 20 gift cards \n",
    "print (customers)\n"
   ]
  },
  {
   "cell_type": "code",
   "execution_count": 13,
   "metadata": {},
   "outputs": [
    {
     "name": "stdout",
     "output_type": "stream",
     "text": [
      "Patrik Kolton can get 6 $20 gift cards\n",
      "Patrik Kolton $20 cards: 6 Remainder points: 54\n",
      "Patrik Kolton can get 0 $10 gift cards\n",
      "Patrik Kolton Final points 54\n",
      "Sita Sedna can get 1 $20 gift cards\n",
      "Sita Sedna $20 cards: 1 Remainder points: 50\n",
      "Sita Sedna can get 0 $10 gift cards\n",
      "Sita Sedna Final points 50\n",
      "Tajeddigt Valdimárr can get 1 $20 gift cards\n",
      "Tajeddigt Valdimárr $20 cards: 1 Remainder points: 146\n",
      "Tajeddigt Valdimárr can get 1 $10 gift cards\n",
      "Tajeddigt Valdimárr Final points 46\n",
      "Dídac Stelios can get 33 $20 gift cards\n",
      "Dídac Stelios $20 cards: 33 Remainder points: 154\n",
      "Dídac Stelios can get 1 $10 gift cards\n",
      "Dídac Stelios Final points 54\n",
      "Berenice Ragnheiðr can get 4 $20 gift cards\n",
      "Berenice Ragnheiðr $20 cards: 4 Remainder points: 75\n",
      "Berenice Ragnheiðr can get 0 $10 gift cards\n",
      "Berenice Ragnheiðr Final points 75\n",
      "Masako Prossy can get 2 $20 gift cards\n",
      "Masako Prossy $20 cards: 2 Remainder points: 66\n",
      "Masako Prossy can get 0 $10 gift cards\n",
      "Masako Prossy Final points 66\n",
      "Ronen Achaicus can get 3 $20 gift cards\n",
      "Ronen Achaicus $20 cards: 3 Remainder points: 142\n",
      "Ronen Achaicus can get 1 $10 gift cards\n",
      "Ronen Achaicus Final points 42\n",
      "Anette Walenty can get 6 $20 gift cards\n",
      "Anette Walenty $20 cards: 6 Remainder points: 98\n",
      "Anette Walenty can get 0 $10 gift cards\n",
      "Anette Walenty Final points 98\n",
      "Miski Diwata can get 6 $20 gift cards\n",
      "Miski Diwata $20 cards: 6 Remainder points: 148\n",
      "Miski Diwata can get 1 $10 gift cards\n",
      "Miski Diwata Final points 48\n",
      "Ayyub Neil can get 8 $20 gift cards\n",
      "Ayyub Neil $20 cards: 8 Remainder points: 164\n",
      "Ayyub Neil can get 1 $10 gift cards\n",
      "Ayyub Neil Final points 64\n",
      "Loan Eunice can get 4 $20 gift cards\n",
      "Loan Eunice $20 cards: 4 Remainder points: 183\n",
      "Loan Eunice can get 1 $10 gift cards\n",
      "Loan Eunice Final points 83\n",
      "Helene Eufrozina can get 11 $20 gift cards\n",
      "Helene Eufrozina $20 cards: 11 Remainder points: 162\n",
      "Helene Eufrozina can get 1 $10 gift cards\n",
      "Helene Eufrozina Final points 62\n"
     ]
    }
   ],
   "source": [
    "customers={\n",
    "    'Patrik Kolton': 1254,\n",
    "    'Sita Sedna': 250,\n",
    "    'Tajeddigt Valdimárr':346,\n",
    "    'Dídac Stelios':6754,\n",
    "    'Berenice Ragnheiðr': 875,\n",
    "    'Masako Prossy':466,\n",
    "    'Ronen Achaicus':742,\n",
    "    'Anette Walenty':1298,\n",
    "    'Miski Diwata': 1348,\n",
    "    'Ayyub Neil': 1764,\n",
    "    'Loan Eunice': 983,\n",
    "    'Helene Eufrozina': 2362 \n",
    "}\n",
    "#step 1 loop and getting how many giftcards can a customer get with 200 points (Calculate for $20 Gift cards)\n",
    "for name, points in customers.items():\n",
    "    gift_cards_20 = points//200\n",
    "    print(name,\"can get\", gift_cards_20,\"$20 gift cards\")\n",
    "\n",
    "#Step 2 Find the remaining points after $20 gift cards\n",
    "    remainder_after20 = points % 200\n",
    "    print(name,\"$20 cards:\", gift_cards_20,\"Remainder points:\",remainder_after20)\n",
    "\n",
    "#Step 3 Calculate for $10 gift cards from remaining points \n",
    "    gift_cards_10 = remainder_after20 // 100\n",
    "    print(name, \"can get\", gift_cards_10, \"$10 gift cards\")\n",
    "#Step 4 finding the left over \n",
    "    final_leftover = remainder_after20 % 100\n",
    "    print(name, \"Final points\", final_leftover)   \n"
   ]
  },
  {
   "cell_type": "code",
   "execution_count": null,
   "metadata": {},
   "outputs": [],
   "source": []
  },
  {
   "cell_type": "code",
   "execution_count": null,
   "metadata": {},
   "outputs": [],
   "source": []
  },
  {
   "cell_type": "code",
   "execution_count": null,
   "metadata": {},
   "outputs": [],
   "source": []
  },
  {
   "attachments": {},
   "cell_type": "markdown",
   "metadata": {},
   "source": [
    "## Question 3: Is a data point within a rectangle? (6 points)"
   ]
  },
  {
   "cell_type": "markdown",
   "metadata": {},
   "source": [
    "Write a function `isIn()` which returns **boolean `True`** if a point is within a rectangle specified by two sets of coordinates and **boolean `False`** if the point is outside the rectangle. The function should accept three parameters:\n",
    "- the first parameter is a set of coordinates which defines one of the corners of the rectangle, \n",
    "- the second parameter is also a set of coordinates that defines the second corner,\n",
    "- the third set of coordinates defines a single point which is being tested.\n",
    "\n",
    "For example, \n",
    "- `isIn((1,2), (3,4), (1.5, 3.2))` should return `True`, \n",
    "- `isIn((4,3.5), (2,1), (3, 2))` should return `True`, \n",
    "- `isIn((-1,0), (5,5), (6,0))` should return `False`,\n",
    "- `isIn((4,1), (2,4), (2.5,4.5))` should return `False`.\n",
    "\n",
    "Test your function with at least 2 different sets of data points in addition to the examples above.\n",
    "\n",
    "**NOTES:** \n",
    "1. If the point being tested is on the side of the rectangle, consider it to be within the rectangle. For example, if the rectangle is defined as `(1,2), (3,4)` and the point is `(2,2)`, the function should return `True`.\n",
    "2. In this assignment, we assume that the edges of the rectangle are parallel to coordinate axes.\n",
    "3. We also assume that the first parameter does not always represent the left corner of the rectangle and the second parameter is not always the right corner. The function should work correctly either way. Please note the second test condition above where the first parameter, `(4,3.5)`, represents the top-right corner and the second parameter, `(2,1)`, represents left-bottom corner. "
   ]
  },
  {
   "cell_type": "code",
   "execution_count": 12,
   "metadata": {},
   "outputs": [
    {
     "name": "stdout",
     "output_type": "stream",
     "text": [
      "True\n",
      "True\n",
      "False\n",
      "False\n",
      "True\n",
      "False\n"
     ]
    }
   ],
   "source": [
    "def isIn(firstCorner=(0,0), secondCorner=(0,0), point=(2,1)):\n",
    "    #Get my coordinates \n",
    "#This is my first corner\n",
    "    x1 = firstCorner[0]\n",
    "    y1 = firstCorner[1]\n",
    "\n",
    "#This is for their second corner \n",
    "    x2 = secondCorner[0]\n",
    "    y2 = secondCorner[1]\n",
    "\n",
    "# The x and y from my inside or outside point \n",
    "    px = point[0]\n",
    "    py = point[1]\n",
    "\n",
    "# Find the rectangle boundaries \n",
    "    min_x = min(x1, x2)\n",
    "    max_x = max(x1, x2)\n",
    "    min_y = min(y1, y2)\n",
    "    max_y = max(y1, y2)\n",
    "\n",
    "#Check if point is inside \n",
    "    if(px >= min_x and px <= max_x and py >= min_y and py <= max_y):\n",
    "        return True\n",
    "    else:\n",
    "        return False\n",
    "    \n",
    "#Test with examples \n",
    "print(isIn((1,2), (3,4), (1.5, 3.2))) #Should print True\n",
    "print(isIn((4,3.5), (2,1), (3, 2))) #Should print True\n",
    "print(isIn((-1,0), (5,5), (6,0))) #Should print False\n",
    "print(isIn((4,1), (2,4), (2.5,4.5))) #Should print False\n",
    "print(isIn((0,0), (10,10), (5,5)))\n",
    "print(isIn((5,4), (4,7), (1,5))) "
   ]
  },
  {
   "cell_type": "code",
   "execution_count": null,
   "metadata": {},
   "outputs": [],
   "source": []
  },
  {
   "cell_type": "code",
   "execution_count": null,
   "metadata": {},
   "outputs": [],
   "source": []
  },
  {
   "attachments": {},
   "cell_type": "markdown",
   "metadata": {},
   "source": [
    "## Question 4: Are all points within a rectangle? (8 points)"
   ]
  },
  {
   "cell_type": "markdown",
   "metadata": {},
   "source": [
    "Modify your function from the previous question so it takes a list of points rather than a single point and returns **boolean `True`** only if all points in the list are in the rectangle.\n",
    "\n",
    "For example,\n",
    "\n",
    "- `allIn((0,0), (5,5), [(1,1), (0,0), (5,5)])` should return `True`\n",
    "- but `allIn((0,0), (5,5), [(1,1), (0,0), (5,6)])` should return `False`\n",
    "- empty list of points `allIn((0,0), (5,5), [])` should return `False`\n",
    "\n",
    "Use the same assumptions as above about the placement of the points and how rectangle is defined. Make sure that your function returns `False` for empty list of points (no values).\n",
    "\n",
    "Test your function with at least 3 different sets of data points."
   ]
  },
  {
   "cell_type": "code",
   "execution_count": 25,
   "metadata": {},
   "outputs": [
    {
     "name": "stdout",
     "output_type": "stream",
     "text": [
      "True\n",
      "False\n",
      "False\n",
      "True\n"
     ]
    }
   ],
   "source": [
    "def allIn(firstCorner=(0,0), secondCorner=(0,0), pointList=[]):\n",
    " # Check if my list is empty \n",
    "    if len(pointList) == 0:\n",
    "        return False\n",
    " #Extract coordinates from corners\n",
    "    x1 = firstCorner[0]\n",
    "    y1 = firstCorner[1]\n",
    "    x2 = secondCorner[0]\n",
    "    y2 = secondCorner[1]\n",
    "\n",
    "#Find the rectangle boundaries \n",
    "    min_x = min(x1, x2)\n",
    "    max_x = max(x1, x2)\n",
    "    min_y = min(y1, y2)\n",
    "    max_y = max(y1, y2)\n",
    "\n",
    "#Check my points \n",
    "    for point in pointList:\n",
    "        px = point[0]\n",
    "        py = point[1]\n",
    "\n",
    "#Check if point is outside then it should return false\n",
    "\n",
    "    if not (px >= min_x and px <= max_x and py>= min_y and py <= max_y):\n",
    "        return False \n",
    "\n",
    "#If all points are inside then it should return true \n",
    "    return True\n",
    "\n",
    "print(allIn((0,0), (5,5), [(1,1), (0,0), (5,5)]))  # Should be True\n",
    "print(allIn((0,0), (5,5), [(1,1), (0,0), (5,6)]))  # Should be False\n",
    "print(allIn((0,0), (5,5), [])) #should be true \n",
    "print(allIn((2,2), (10,10), [(5,1), (3,0), (5,5)]))"
   ]
  },
  {
   "cell_type": "code",
   "execution_count": 1,
   "metadata": {},
   "outputs": [
    {
     "name": "stdout",
     "output_type": "stream",
     "text": [
      "True\n",
      "False\n"
     ]
    }
   ],
   "source": [
    "#Write a function called is_passing_grade that:\n",
    "\n",
    "#Takes one parameter: score (a number)\n",
    "#Returns True if the score is 50 or higher\n",
    "#Returns False if the score is below 50\n",
    "\n",
    "#Then test your function with these examples:\n",
    "\n",
    "\n",
    "def is_passing_grade(score):\n",
    "    if score >= 50:\n",
    "        return True\n",
    "    else:\n",
    "        return False\n",
    "\n",
    "# Call it whenever you want\n",
    "print(is_passing_grade(75))  # True\n",
    "print(is_passing_grade(49))  # False"
   ]
  },
  {
   "cell_type": "code",
   "execution_count": null,
   "metadata": {},
   "outputs": [],
   "source": []
  },
  {
   "cell_type": "code",
   "execution_count": null,
   "metadata": {},
   "outputs": [],
   "source": []
  }
 ],
 "metadata": {
  "kernelspec": {
   "display_name": "Python [conda env:base] *",
   "language": "python",
   "name": "conda-base-py"
  },
  "language_info": {
   "codemirror_mode": {
    "name": "ipython",
    "version": 3
   },
   "file_extension": ".py",
   "mimetype": "text/x-python",
   "name": "python",
   "nbconvert_exporter": "python",
   "pygments_lexer": "ipython3",
   "version": "3.13.5"
  },
  "toc": {
   "base_numbering": 1,
   "nav_menu": {},
   "number_sections": false,
   "sideBar": true,
   "skip_h1_title": false,
   "title_cell": "Table of Contents",
   "title_sidebar": "Contents",
   "toc_cell": false,
   "toc_position": {},
   "toc_section_display": true,
   "toc_window_display": false
  },
  "vscode": {
   "interpreter": {
    "hash": "aee8b7b246df8f9039afb4144a1f6fd8d2ca17a180786b69acc140d282b71a49"
   }
  }
 },
 "nbformat": 4,
 "nbformat_minor": 4
}
